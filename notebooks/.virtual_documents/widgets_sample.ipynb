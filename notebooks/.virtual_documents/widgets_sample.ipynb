from ipywidgets import IntSlider

IntSlider(value=7, min=0, max=10, step=1, description="Test:")


import requests
